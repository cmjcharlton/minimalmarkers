{
 "cells": [
  {
   "cell_type": "markdown",
   "id": "5132414a-e61f-4e7b-9f5a-78338e9ad79f",
   "metadata": {},
   "source": [
    "This notebook compares different implementations of the rescoring algorithm for finding successively better scores after an initial scoring calculation.\n",
    "\n",
    "First we import the packages required for the tests"
   ]
  },
  {
   "cell_type": "code",
   "execution_count": 1,
   "id": "3847b69a-7802-41bf-87e4-bcf0a6e3dc0e",
   "metadata": {},
   "outputs": [],
   "source": [
    "import numpy as np\n",
    "import numba\n",
    "import perfplot"
   ]
  },
  {
   "cell_type": "markdown",
   "id": "362e0ca0-1161-4ddc-9552-8c4e21b2665c",
   "metadata": {},
   "source": [
    "Function to find the pattern with the best score"
   ]
  },
  {
   "cell_type": "code",
   "execution_count": 2,
   "id": "892ceecd-d59a-40b1-a1b8-0b5d4bea5102",
   "metadata": {},
   "outputs": [],
   "source": [
    "# Generate score for each patterns\n",
    "@numba.jit(nopython=True, nogil=True, fastmath=True, parallel=True, cache=True)\n",
    "def first_score_patterns(patterns, skip_patterns):\n",
    "    npatterns: int = patterns.shape[0]\n",
    "    ncols: int = patterns.shape[1]\n",
    "\n",
    "    scores = np.zeros(npatterns, np.int32)\n",
    "    \n",
    "    for p in numba.prange(0, npatterns):\n",
    "        if not skip_patterns[p]:\n",
    "            score: int = 0\n",
    "            bins = np.zeros(4, np.int32)\n",
    "            for i in range(0, ncols):\n",
    "                bins[patterns[p, i]] += 1\n",
    "            score = bins[0] * bins[1] + (bins[0] + bins[1]) * bins[2]\n",
    "            scores[p] = score\n",
    "\n",
    "            if score == 0:\n",
    "                skip_patterns[p] = 1\n",
    "                \n",
    "    return scores"
   ]
  },
  {
   "cell_type": "markdown",
   "id": "a500265c-a970-4bef-90e0-972e86ba514e",
   "metadata": {},
   "source": [
    "Function to calculate the best possible score that could be achieved using all of the patterns"
   ]
  },
  {
   "cell_type": "code",
   "execution_count": 3,
   "id": "35b33e49-b5e1-436c-8bb9-e322201ebfdc",
   "metadata": {},
   "outputs": [],
   "source": [
    "@numba.jit(nopython=True, nogil=True, fastmath=True, parallel=True, cache=True)\n",
    "def calculate_best_possible_score(patterns):\n",
    "\n",
    "    npatterns: int = patterns.shape[0]\n",
    "    ncols: int = patterns.shape[1]\n",
    "    \n",
    "    score: int = 0\n",
    "    # Rearrange the loopps so the main loop ends early when a cell is filled\n",
    "    for i in numba.prange(0, ncols):\n",
    "        for j in range(0, i):\n",
    "            for p in range(0, npatterns): # Striding here, so cache misses more likely. Transposing the matrix first may be faster.\n",
    "                ival: int = patterns[p, i]\n",
    "                jval: int = patterns[p, j]\n",
    "                if ival != -1 and jval != -1 and ival != jval:\n",
    "                    score += 1\n",
    "                    break # stop early if cell contains a one\n",
    "\n",
    "    return score"
   ]
  },
  {
   "cell_type": "markdown",
   "id": "a2760ab2-2543-487e-b05b-953b8849c4f3",
   "metadata": {},
   "source": [
    "Utility functions used in rescoring"
   ]
  },
  {
   "cell_type": "code",
   "execution_count": 4,
   "id": "70247813-e397-479c-ab74-d2ff33256867",
   "metadata": {},
   "outputs": [],
   "source": [
    "@numba.jit(nopython=True, fastmath=True, nogil=True, parallel=True, cache=True)\n",
    "def _create_matrix(pattern, matrix):\n",
    "    \"\"\"Create the stencil matrix for this pattern, based on the\n",
    "       current value of the combined stencil matrix (i.e. only\n",
    "       cover up holes that are not already covered\n",
    "    \"\"\"\n",
    "    n = len(pattern)\n",
    "\n",
    "    m = np.zeros((n, n), np.int8)\n",
    "\n",
    "    for i in numba.prange(0, n):\n",
    "        ival = pattern[i]\n",
    "\n",
    "        if ival != -1:\n",
    "            for j in range(i+1, n):\n",
    "                jval = pattern[j]\n",
    "\n",
    "                # If this cell in the matrix is currently set to zero,\n",
    "                # i.e. this pair of varieties (i and j) are unresolved,\n",
    "                # and their genotypes are valid and different, then we can\n",
    "                # set this cell in the test matrix to 1 (= resolved) -\n",
    "                # otherwise it remains set to zero.\n",
    "                if jval != -1 and ival != jval and matrix[i, j] == 0:\n",
    "                    m[i, j] = 1\n",
    "\n",
    "    return m\n",
    "\n",
    "@numba.jit(nopython=True, cache=True)\n",
    "def _unmatched_element_indices(pattern, expected_size):\n",
    "    \"\"\"Calculate the co-ordinates of the elements with value\n",
    "       zero in the matrix corresponding to the passed in pattern.\n",
    "       Returns\n",
    "       =======\n",
    "            indices : N x 2 numpy array containing row/column of each zero\n",
    "    \"\"\"\n",
    "    indices = np.empty((expected_size, 2), dtype=np.int64)\n",
    "    nele: int = pattern.size\n",
    "    idx: int = 0 # shared across iterations, so can't parallelise the loops\n",
    "    for i in range(0, nele):\n",
    "        ival: int = pattern[i]\n",
    "        for j in range(0, i):\n",
    "            jval: int = pattern[j]\n",
    "            if ival == -1 or jval == -1 or ival == jval:\n",
    "                indices[idx, 0] = i\n",
    "                indices[idx, 1] = j\n",
    "                idx += 1\n",
    "\n",
    "    if idx != expected_size:\n",
    "        print(f'{idx} does not match expected number of elements ({expected_size})')\n",
    "\n",
    "    return indices\n",
    "\n",
    "@numba.jit(nopython=True, cache=True)\n",
    "def _remove_matched_indices(data, indices, num_fewer):\n",
    "    \"\"\"Removes indices from the input array corresponding to\n",
    "       ones in the matrix generated from the data array\n",
    "       Returns\n",
    "       =======\n",
    "            new_indices : N x 2 numpy array containing the new indices\n",
    "    \"\"\"\n",
    "    num_old: int = indices.shape[0]\n",
    "    new_size: int = num_old - num_fewer\n",
    "    nrows: int = data.shape[0]\n",
    "    new_indices = np.empty((new_size, 2), dtype=np.int64)\n",
    "    new_idx: int = 0 # shared accross iterations, so can't parallelise the loop\n",
    "    for old_idx in range(0, num_old):\n",
    "        i: int = indices[old_idx, 0]\n",
    "        j: int = indices[old_idx, 1]\n",
    "        ival: int = data[i]\n",
    "        jval: int = data[j]\n",
    "        if ival == -1 or jval == -1 or ival == jval:\n",
    "            new_indices[new_idx] = [i, j]\n",
    "            new_idx += 1\n",
    "\n",
    "    if new_idx != new_size:\n",
    "        print(f'{new_idx} does not match expected number of new elements ({new_size})')\n",
    "\n",
    "    return new_indices"
   ]
  },
  {
   "cell_type": "markdown",
   "id": "e29af261-8f6e-4436-9070-d836ba6c09da",
   "metadata": {},
   "source": [
    "Original rescoring function"
   ]
  },
  {
   "cell_type": "code",
   "execution_count": 5,
   "id": "5f68ee0b-3418-44c6-902e-842466ce39b2",
   "metadata": {},
   "outputs": [],
   "source": [
    "@numba.jit(nopython=True, nogil=True, fastmath=True, parallel=True, cache=True)\n",
    "def _rescore_patterns(patterns, matrix, skip_patterns, scores, sorted_idxs):\n",
    "    npatterns: int = patterns.shape[0]\n",
    "    ncols: int = patterns.shape[1]\n",
    "    nthreads: int = numba.config.NUMBA_NUM_THREADS\n",
    "\n",
    "    for thread_id in numba.prange(0, nthreads):\n",
    "        my_best_score: int = 0\n",
    "\n",
    "        for chunk in range(0, npatterns, nthreads):\n",
    "            idx: int = chunk + thread_id\n",
    "\n",
    "            if idx >= npatterns:\n",
    "                break\n",
    "\n",
    "            p: int = sorted_idxs[idx]\n",
    "\n",
    "            if skip_patterns[p]:\n",
    "                continue\n",
    "\n",
    "            current_score: int = scores[p]\n",
    "\n",
    "            if current_score < my_best_score:\n",
    "                # there are no more patterns with a better score\n",
    "                break\n",
    "\n",
    "            # this pattern could be the best scoring pattern...\n",
    "            score: int = 0\n",
    "\n",
    "            for i in range(0, ncols):\n",
    "                ival: int = patterns[p, i]\n",
    "\n",
    "                if ival != -1:\n",
    "                    for j in range(i+1, ncols):\n",
    "                        jval: int = patterns[p, j]\n",
    "                        score += (jval != -1 and ival != jval and matrix[i, j] == 0)\n",
    "\n",
    "            scores[p] = score\n",
    "\n",
    "            if score == 0:\n",
    "                skip_patterns[p] = 1\n",
    "\n",
    "            if score > my_best_score:\n",
    "                my_best_score = score\n",
    "\n",
    "    return np.argsort(scores)[::-1]\n",
    "\n",
    "def rescore_original(patterns, scores, best_possible_score, skip_patterns):\n",
    "    scores = np.array(scores) # function modifies this array, so make a copy\n",
    "    skip_patterns = np.array(skip_patterns) # function modifies this array, so make a copy\n",
    "    \n",
    "    sorted_idxs = np.argsort(scores)[::-1]\n",
    "    best_pattern = sorted_idxs[0]\n",
    "    best_score: int = scores[best_pattern]\n",
    "    best_patterns = [(best_pattern, best_score)]\n",
    "    \n",
    "    cumulative_score: int = best_score\n",
    "    current_score: int = best_score\n",
    "\n",
    "    # patterns which have been used are given a score of zero\n",
    "    scores[best_pattern] = 0\n",
    "    skip_patterns[best_pattern] = 1\n",
    "    \n",
    "    ncols: int = patterns.shape[1]\n",
    "\n",
    "    # create the matrix showing which varieties can be distinguished\n",
    "    matrix = np.zeros((ncols, ncols), np.int8)\n",
    "    matrix = _create_matrix(patterns[best_pattern], matrix)\n",
    "\n",
    "    while current_score > 0:\n",
    "        sorted_idxs = _rescore_patterns(patterns, matrix, skip_patterns, scores, sorted_idxs)\n",
    "\n",
    "        best_pattern = sorted_idxs[0]\n",
    "        best_score = scores[best_pattern]\n",
    "\n",
    "        if best_score > 0:\n",
    "            cumulative_score += best_score\n",
    "            best_patterns.append((best_pattern, cumulative_score))\n",
    "\n",
    "            scores[best_pattern] = 0\n",
    "            skip_patterns[best_pattern] = 1\n",
    "\n",
    "            matrix += _create_matrix(patterns[best_pattern], matrix)\n",
    "\n",
    "            if cumulative_score == best_possible_score:\n",
    "                break\n",
    "\n",
    "        current_score: int = best_score\n",
    "        \n",
    "    return cumulative_score"
   ]
  },
  {
   "cell_type": "markdown",
   "id": "5a4cdc6c-1977-4bbd-84cd-3921ef6bea5a",
   "metadata": {},
   "source": [
    "Keep track of unused cells in the form of a sparse matrix, reducing the number of comparisons required for each iteration"
   ]
  },
  {
   "cell_type": "code",
   "execution_count": 6,
   "id": "1a9761da-f787-441e-9b2b-22ec7dcea671",
   "metadata": {},
   "outputs": [],
   "source": [
    "@numba.jit(nopython=True, nogil=True, fastmath=True, parallel=True, cache=True)\n",
    "def _rescore_patterns_sparse(patterns, indices, skip_patterns, scores, sorted_idxs):\n",
    "    nidx: int = indices.shape[0]\n",
    "    npatterns: int = patterns.shape[0]\n",
    "    ncols: int = patterns.shape[1]\n",
    "    nthreads: int = numba.config.NUMBA_NUM_THREADS\n",
    "\n",
    "    for thread_id in numba.prange(0, nthreads):\n",
    "        my_best_score: int = 0\n",
    "\n",
    "        for chunk in range(0, npatterns, nthreads):\n",
    "            idx: int = chunk + thread_id\n",
    "\n",
    "            if idx >= npatterns:\n",
    "                break\n",
    "\n",
    "            p: int = sorted_idxs[idx]\n",
    "\n",
    "            if skip_patterns[p]:\n",
    "                continue\n",
    "\n",
    "            current_score: int = scores[p]\n",
    "\n",
    "            if current_score < my_best_score:\n",
    "                # there are no more patterns with a better score\n",
    "                break\n",
    "\n",
    "            # this pattern could be the best scoring pattern...\n",
    "            score: int = 0\n",
    "\n",
    "            for idx in range(0, nidx):\n",
    "                i: int = indices[idx, 0]\n",
    "                j: int  = indices[idx, 1]\n",
    "                ival: int = patterns[p, i]\n",
    "                jval: int = patterns[p, j]\n",
    "                if ival != -1 and jval != -1 and ival != jval:\n",
    "                    score += 1\n",
    "\n",
    "            scores[p] = score\n",
    "\n",
    "            if score == 0:\n",
    "                skip_patterns[p] = 1\n",
    "\n",
    "            if score > my_best_score:\n",
    "                my_best_score = score\n",
    "\n",
    "    return np.argsort(scores)[::-1]\n",
    "\n",
    "def rescore_sparse(patterns, scores, best_possible_score, skip_patterns):\n",
    "    scores = np.array(scores) # function modifies this array, so make a copy\n",
    "    skip_patterns = np.array(skip_patterns) # function modifies this array, so make a copy\n",
    "    \n",
    "    sorted_idxs = np.argsort(scores)[::-1]\n",
    "    best_pattern = sorted_idxs[0]\n",
    "    best_score: int = scores[best_pattern]\n",
    "    best_patterns = [(best_pattern, best_score)]\n",
    "    \n",
    "    cumulative_score: int = best_score\n",
    "    current_score: int = best_score\n",
    "\n",
    "    # patterns which have been used are given a score of zero\n",
    "    scores[best_pattern] = 0\n",
    "    skip_patterns[best_pattern] = 1\n",
    "    \n",
    "    ncols: int = len(patterns[0])\n",
    "    perfect_score: int = int((ncols * (ncols-1)) / 2)\n",
    "\n",
    "    # number of elements that can still distinguish varieties\n",
    "    nremain = perfect_score - best_score\n",
    "    \n",
    "    # create a list indicies representing a sparse matrix containing the elements\n",
    "    # can be still be used to distinguish varieties\n",
    "    remaining_indices = _unmatched_element_indices(patterns[best_pattern], nremain)\n",
    "\n",
    "    while current_score > 0:\n",
    "        sorted_idxs = _rescore_patterns_sparse(patterns, remaining_indices, skip_patterns, scores, sorted_idxs)\n",
    "\n",
    "        best_pattern = sorted_idxs[0]\n",
    "        best_score = scores[best_pattern]\n",
    "\n",
    "        if best_score > 0:\n",
    "            cumulative_score += best_score\n",
    "            best_patterns.append((best_pattern, cumulative_score))\n",
    "\n",
    "            scores[best_pattern] = 0\n",
    "            skip_patterns[best_pattern] = 1\n",
    "\n",
    "            remaining_indices = _remove_matched_indices(patterns[best_pattern], remaining_indices, best_score)\n",
    "            \n",
    "            if cumulative_score == best_possible_score:\n",
    "                break\n",
    "\n",
    "        current_score: int = best_score\n",
    "        \n",
    "    return cumulative_score"
   ]
  },
  {
   "cell_type": "markdown",
   "id": "acef2893-f5aa-4408-9122-cbc5858d5c64",
   "metadata": {},
   "source": [
    "Avoid resorting the scores each time they are updated, not that if there are ties this can return a different pattern order to the versions above"
   ]
  },
  {
   "cell_type": "code",
   "execution_count": 7,
   "id": "6c399b26-4afa-42ec-83a3-b6764d3ab2bd",
   "metadata": {},
   "outputs": [],
   "source": [
    "@numba.jit(nopython=True, nogil=True, fastmath=True, parallel=True, cache=True)\n",
    "def _rescore_patterns_nosort(patterns, indices, skip_patterns, scores):\n",
    "    nidx: int = indices.shape[0]\n",
    "    npatterns: int = patterns.shape[0]\n",
    "    ncols: int = patterns.shape[1]\n",
    "\n",
    "    best_score: int = 0 # thread local variable\n",
    "    \n",
    "    for p in numba.prange(0, npatterns):\n",
    "        if skip_patterns[p]:\n",
    "            continue\n",
    "        if scores[p] < best_score:\n",
    "            continue\n",
    "\n",
    "        # this pattern could be the best scoring pattern...\n",
    "        score: int = 0\n",
    "            \n",
    "        for idx in range(0, nidx):\n",
    "            i: int = indices[idx, 0]\n",
    "            j: int  = indices[idx, 1]\n",
    "            ival: int = patterns[p, i]\n",
    "            jval: int = patterns[p, j]\n",
    "            if ival != -1 and jval != -1 and ival != jval:\n",
    "                score += 1\n",
    "\n",
    "        scores[p] = score\n",
    "\n",
    "        if score == 0:\n",
    "            skip_patterns[p] = 1\n",
    "        if score > best_score:\n",
    "            best_score = score\n",
    "            \n",
    "def rescore_nosort(patterns, scores, best_possible_score, skip_patterns):\n",
    "    scores = np.array(scores) # function modifies this array, so make a copy\n",
    "    skip_patterns = np.array(skip_patterns) # function modifies this array, so make a copy\n",
    "    \n",
    "    best_pattern = np.argmax(scores)\n",
    "    best_score: int = scores[best_pattern]\n",
    "    best_patterns = [(best_pattern, best_score)]\n",
    "    \n",
    "    cumulative_score: int = best_score\n",
    "    current_score: int = best_score\n",
    "\n",
    "    # patterns which have been used are given a score of zero\n",
    "    scores[best_pattern] = 0\n",
    "    skip_patterns[best_pattern] = 1\n",
    "    \n",
    "    ncols: int = len(patterns[0])\n",
    "    perfect_score: int = int((ncols * (ncols-1)) / 2)\n",
    "\n",
    "    # number of elements that can still distinguish varieties\n",
    "    nremain = perfect_score - best_score\n",
    "    \n",
    "    # create a list indicies representing a sparse matrix containing the elements\n",
    "    # can be still be used to distinguish varieties\n",
    "    remaining_indices = _unmatched_element_indices(patterns[best_pattern], nremain)\n",
    "\n",
    "    while current_score > 0:\n",
    "        _rescore_patterns_nosort(patterns, remaining_indices, skip_patterns, scores)\n",
    "\n",
    "        best_pattern = np.argmax(scores)\n",
    "        best_score = scores[best_pattern]\n",
    "\n",
    "        if best_score > 0:\n",
    "            cumulative_score += best_score\n",
    "            best_patterns.append((best_pattern, cumulative_score))\n",
    "\n",
    "            scores[best_pattern] = 0\n",
    "            skip_patterns[best_pattern] = 1\n",
    "\n",
    "            remaining_indices = _remove_matched_indices(patterns[best_pattern], remaining_indices, best_score)\n",
    "            \n",
    "            if cumulative_score == best_possible_score:\n",
    "                break\n",
    "\n",
    "        current_score: int = best_score\n",
    "        \n",
    "    return cumulative_score"
   ]
  },
  {
   "cell_type": "markdown",
   "id": "6739df8e-4175-468b-8605-c49044a3e322",
   "metadata": {},
   "source": [
    "As we already know the index of the best score we can return it directly instead of having to search again later"
   ]
  },
  {
   "cell_type": "code",
   "execution_count": 8,
   "id": "e86f8dfc-7dfd-40f4-84a6-23746f27268b",
   "metadata": {},
   "outputs": [],
   "source": [
    "@numba.jit(nopython=True, nogil=True, fastmath=True, parallel=True, cache=True)\n",
    "def _rescore_patterns_nosort_idx(patterns, indices, skip_patterns, scores):\n",
    "    nidx: int = indices.shape[0]\n",
    "    npatterns: int = patterns.shape[0]\n",
    "    ncols: int = patterns.shape[1]   \n",
    "    nthreads: int = numba.config.NUMBA_NUM_THREADS\n",
    "    \n",
    "    best_idx = np.zeros(nthreads, dtype=np.int64)\n",
    "    best_score: int = 0 # thread local variable\n",
    "\n",
    "    for thread_id in numba.prange(0, nthreads):\n",
    "        my_best_score: int = 0\n",
    "\n",
    "        for chunk in range(0, npatterns, nthreads):\n",
    "            p: int = chunk + thread_id\n",
    "            if p >= npatterns:\n",
    "                break\n",
    "\n",
    "            if skip_patterns[p]:\n",
    "                continue\n",
    "            if scores[p] < best_score:\n",
    "                continue\n",
    "\n",
    "            # this pattern could be the best scoring pattern...\n",
    "            score: int = 0\n",
    "            \n",
    "            for idx in range(0, nidx):\n",
    "                i: int = indices[idx, 0]\n",
    "                j: int  = indices[idx, 1]\n",
    "                ival: int = patterns[p, i]\n",
    "                jval: int = patterns[p, j]\n",
    "                if ival != -1 and jval != -1 and ival != jval:\n",
    "                    score += 1\n",
    "\n",
    "            scores[p] = score\n",
    "\n",
    "            if score == 0:\n",
    "                skip_patterns[p] = 1\n",
    "            if score > best_score:\n",
    "                best_score = score\n",
    "                best_idx[thread_id] = p\n",
    "\n",
    "    idx:int = best_idx[0]\n",
    "    for thread_id in range(1, nthreads):\n",
    "        if scores[best_idx[thread_id]] > scores[idx]:\n",
    "            idx = best_idx[thread_id]\n",
    "    return idx\n",
    "\n",
    "def rescore_nosort_idx(patterns, scores, best_possible_score, skip_patterns):\n",
    "    scores = np.array(scores) # function modifies this array, so make a copy\n",
    "    skip_patterns = np.array(skip_patterns) # function modifies this array, so make a copy\n",
    "    \n",
    "    best_pattern = np.argmax(scores)\n",
    "    best_score: int = scores[best_pattern]\n",
    "    best_patterns = [(best_pattern, best_score)]\n",
    "    \n",
    "    cumulative_score: int = best_score\n",
    "    current_score: int = best_score\n",
    "\n",
    "    # patterns which have been used are given a score of zero\n",
    "    scores[best_pattern] = 0\n",
    "    skip_patterns[best_pattern] = 1\n",
    "    \n",
    "    ncols: int = len(patterns[0])\n",
    "    perfect_score: int = int((ncols * (ncols-1)) / 2)\n",
    "\n",
    "    # number of elements that can still distinguish varieties\n",
    "    nremain = perfect_score - best_score\n",
    "    \n",
    "    # create a list indicies representing a sparse matrix containing the elements\n",
    "    # can be still be used to distinguish varieties\n",
    "    remaining_indices = _unmatched_element_indices(patterns[best_pattern], nremain)\n",
    "\n",
    "    while current_score > 0:\n",
    "        best_pattern = _rescore_patterns_nosort_idx(patterns, remaining_indices, skip_patterns, scores)\n",
    "        best_score = scores[best_pattern]\n",
    "\n",
    "        if best_score > 0:\n",
    "            cumulative_score += best_score\n",
    "            best_patterns.append((best_pattern, cumulative_score))\n",
    "\n",
    "            scores[best_pattern] = 0\n",
    "            skip_patterns[best_pattern] = 1\n",
    "\n",
    "            remaining_indices = _remove_matched_indices(patterns[best_pattern], remaining_indices, best_score)\n",
    "            \n",
    "            if cumulative_score == best_possible_score:\n",
    "                break\n",
    "\n",
    "        current_score: int = best_score\n",
    "\n",
    "    return cumulative_score"
   ]
  },
  {
   "cell_type": "markdown",
   "id": "97c5f4d8-5b20-48f3-9e6c-56e42c6681ba",
   "metadata": {},
   "source": [
    "Create example data containing 100 patterns, and calculate initial scores"
   ]
  },
  {
   "cell_type": "code",
   "execution_count": 9,
   "id": "39cbf731-10c2-4805-b395-e263825af2dd",
   "metadata": {},
   "outputs": [],
   "source": [
    "# Create pattern data and initial scores\n",
    "def create_input_100(n_variety):\n",
    "    nrows = 100 # number of different patterns to investigate\n",
    "    patterns = np.random.choice([0, 1, 2, -1], (nrows, n_variety), p = [1/4, 1/4, 1/4, 1/4])\n",
    "    skip_patterns = np.zeros(patterns.shape[0], np.int8)\n",
    "    \n",
    "    best_possible_score: int = calculate_best_possible_score(patterns)\n",
    "    \n",
    "    scores = first_score_patterns(patterns, skip_patterns)\n",
    "    return (patterns, scores, best_possible_score, skip_patterns)"
   ]
  },
  {
   "cell_type": "markdown",
   "id": "6e85acd0-8c40-4e00-85fe-38599fb57b67",
   "metadata": {},
   "source": [
    "Create example data containing 1000 patterns, and calculate initial scores"
   ]
  },
  {
   "cell_type": "code",
   "execution_count": 10,
   "id": "b054bff8-bbe5-4264-a41d-498d3acc6150",
   "metadata": {},
   "outputs": [],
   "source": [
    "# Create pattern data and initial scores\n",
    "def create_input_1000(n_variety):\n",
    "    nrows = 1000 # number of different patterns to investigate\n",
    "    patterns = np.random.choice([0, 1, 2, -1], (nrows, n_variety), p = [1/4, 1/4, 1/4, 1/4])\n",
    "    skip_patterns = np.zeros(patterns.shape[0], np.int8)\n",
    "    \n",
    "    best_possible_score: int = calculate_best_possible_score(patterns)\n",
    "    \n",
    "    scores = first_score_patterns(patterns, skip_patterns)\n",
    "    return (patterns, scores, best_possible_score, skip_patterns)\n"
   ]
  },
  {
   "cell_type": "markdown",
   "id": "baba6ebf-fb0f-4e59-b3d7-8624a99d40b3",
   "metadata": {},
   "source": [
    "Create example data containing 10000 patterns, and calculate initial scores"
   ]
  },
  {
   "cell_type": "code",
   "execution_count": 11,
   "id": "2930f6a6-8c7c-401d-8b18-274b89d45e31",
   "metadata": {},
   "outputs": [],
   "source": [
    "# Create pattern data and initial scores\n",
    "def create_input_10000(n_variety):\n",
    "    nrows = 10000 # number of different patterns to investigate\n",
    "    patterns = np.random.choice([0, 1, 2, -1], (nrows, n_variety), p = [1/4, 1/4, 1/4, 1/4])\n",
    "    skip_patterns = np.zeros(patterns.shape[0], np.int8)\n",
    "    \n",
    "    best_possible_score: int = calculate_best_possible_score(patterns)\n",
    "    \n",
    "    scores = first_score_patterns(patterns, skip_patterns)\n",
    "    return (patterns, scores, best_possible_score, skip_patterns)"
   ]
  },
  {
   "cell_type": "markdown",
   "id": "e964f058-0bf5-4e7e-87c5-228861e3d90e",
   "metadata": {},
   "source": [
    "Create example data containing 100000 patterns, and calculate initial scores"
   ]
  },
  {
   "cell_type": "code",
   "execution_count": 12,
   "id": "d18f6e10-5e99-41b7-8810-a96510427d33",
   "metadata": {},
   "outputs": [],
   "source": [
    "# Create pattern data and initial scores\n",
    "def create_input_100000(n_variety):\n",
    "    nrows = 10000 # number of different patterns to investigate\n",
    "    patterns = np.random.choice([0, 1, 2, -1], (nrows, n_variety), p = [1/4, 1/4, 1/4, 1/4])\n",
    "    skip_patterns = np.zeros(patterns.shape[0], np.int8)\n",
    "    \n",
    "    best_possible_score: int = calculate_best_possible_score(patterns)\n",
    "    \n",
    "    scores = first_score_patterns(patterns, skip_patterns)\n",
    "    return (patterns, scores, best_possible_score, skip_patterns)"
   ]
  },
  {
   "cell_type": "markdown",
   "id": "1119752c-cab4-423d-96d4-534804dada12",
   "metadata": {},
   "source": [
    "Compare recscoring of 100 different patterns for increasing numbers of variation"
   ]
  },
  {
   "cell_type": "code",
   "execution_count": 13,
   "id": "4d31b01b-4808-409f-b5d2-586389361293",
   "metadata": {},
   "outputs": [
    {
     "data": {
      "application/vnd.jupyter.widget-view+json": {
       "model_id": "346b1065adaf4324af06305dfa770e3b",
       "version_major": 2,
       "version_minor": 0
      },
      "text/plain": [
       "Output()"
      ]
     },
     "metadata": {},
     "output_type": "display_data"
    },
    {
     "data": {
      "text/html": [
       "<pre style=\"white-space:pre;overflow-x:auto;line-height:normal;font-family:Menlo,'DejaVu Sans Mono',consolas,'Courier New',monospace\"></pre>\n"
      ],
      "text/plain": []
     },
     "metadata": {},
     "output_type": "display_data"
    },
    {
     "data": {
      "text/html": [
       "<pre style=\"white-space:pre;overflow-x:auto;line-height:normal;font-family:Menlo,'DejaVu Sans Mono',consolas,'Courier New',monospace\">\n",
       "</pre>\n"
      ],
      "text/plain": [
       "\n"
      ]
     },
     "metadata": {},
     "output_type": "display_data"
    },
    {
     "name": "stdout",
     "output_type": "stream",
     "text": [
      "(8.099999999999995e-06, 2.7272275)\n"
     ]
    },
    {
     "data": {
      "image/png": "[encoded data removed]",
      "text/plain": [
       "<Figure size 432x288 with 1 Axes>"
      ]
     },
     "metadata": {
      "needs_background": "dark"
     },
     "output_type": "display_data"
    }
   ],
   "source": [
    "np.random.seed(1)\n",
    "perfplot.show(\n",
    "    setup=lambda n: create_input_100(n),\n",
    "    kernels=[\n",
    "        lambda a, b, c, d: rescore_original(a, b, c, d),\n",
    "        lambda a, b, c, d: rescore_sparse(a, b, c, d),\n",
    "        lambda a, b, c, d: rescore_nosort(a, b, c, d),\n",
    "        lambda a, b, c, d: rescore_nosort_idx(a, b, c, d),\n",
    "    ],\n",
    "    labels=[\"original\", \"sparse\", \"nosort\", \"nosort_returnidx\"],\n",
    "    n_range=[2**k for k in range(12)],\n",
    "    xlabel=\"Number of varieties\",\n",
    "    # More optional arguments with their default values:\n",
    "    # logx=\"auto\",  # set to True or False to force scaling\n",
    "    # logy=\"auto\",\n",
    "    # equality_check=np.allclose,  # set to None to disable \"correctness\" assertion\n",
    "    # show_progress=True,\n",
    "    # target_time_per_measurement=1.0,\n",
    "    # max_time=None,  # maximum time per measurement\n",
    "    # time_unit=\"s\",  # set to one of (\"auto\", \"s\", \"ms\", \"us\", or \"ns\") to force plot units\n",
    "    # relative_to=1,  # plot the timings relative to one of the measurements\n",
    "    # flops=lambda n: 3*n,  # FLOPS plots\n",
    ")"
   ]
  },
  {
   "cell_type": "markdown",
   "id": "5def6c06-6a80-44e7-8a9b-6885a4973cbe",
   "metadata": {},
   "source": [
    "Compare recscoring of 1000 different patterns for increasing numbers of variation"
   ]
  },
  {
   "cell_type": "code",
   "execution_count": 14,
   "id": "ec1d34c3-4643-477c-819d-4752674ad1aa",
   "metadata": {},
   "outputs": [
    {
     "data": {
      "application/vnd.jupyter.widget-view+json": {
       "model_id": "ebee1ca1ead54293a7f81c0ca862d82c",
       "version_major": 2,
       "version_minor": 0
      },
      "text/plain": [
       "Output()"
      ]
     },
     "metadata": {},
     "output_type": "display_data"
    },
    {
     "data": {
      "text/html": [
       "<pre style=\"white-space:pre;overflow-x:auto;line-height:normal;font-family:Menlo,'DejaVu Sans Mono',consolas,'Courier New',monospace\"></pre>\n"
      ],
      "text/plain": []
     },
     "metadata": {},
     "output_type": "display_data"
    },
    {
     "data": {
      "text/html": [
       "<pre style=\"white-space:pre;overflow-x:auto;line-height:normal;font-family:Menlo,'DejaVu Sans Mono',consolas,'Courier New',monospace\">\n",
       "</pre>\n"
      ],
      "text/plain": [
       "\n"
      ]
     },
     "metadata": {},
     "output_type": "display_data"
    },
    {
     "name": "stdout",
     "output_type": "stream",
     "text": [
      "(1.0099999999999991e-05, 17.2762062)\n"
     ]
    },
    {
     "data": {
      "image/png": "[encoded data removed]",
      "text/plain": [
       "<Figure size 432x288 with 1 Axes>"
      ]
     },
     "metadata": {
      "needs_background": "dark"
     },
     "output_type": "display_data"
    }
   ],
   "source": [
    "np.random.seed(1)\n",
    "perfplot.show(\n",
    "    setup=lambda n: create_input_1000(n),\n",
    "    kernels=[\n",
    "        lambda a, b, c, d: rescore_original(a, b, c, d),\n",
    "        lambda a, b, c, d: rescore_sparse(a, b, c, d),\n",
    "        lambda a, b, c, d: rescore_nosort(a, b, c, d),\n",
    "        lambda a, b, c, d: rescore_nosort_idx(a, b, c, d),\n",
    "    ],\n",
    "    labels=[\"original\", \"sparse\", \"nosort\", \"nosort_returnidx\"],\n",
    "    n_range=[2**k for k in range(12)],\n",
    "    xlabel=\"Number of varieties\",\n",
    "    # More optional arguments with their default values:\n",
    "    # logx=\"auto\",  # set to True or False to force scaling\n",
    "    # logy=\"auto\",\n",
    "    # equality_check=np.allclose,  # set to None to disable \"correctness\" assertion\n",
    "    # show_progress=True,\n",
    "    # target_time_per_measurement=1.0,\n",
    "    # max_time=None,  # maximum time per measurement\n",
    "    # time_unit=\"s\",  # set to one of (\"auto\", \"s\", \"ms\", \"us\", or \"ns\") to force plot units\n",
    "    # relative_to=1,  # plot the timings relative to one of the measurements\n",
    "    # flops=lambda n: 3*n,  # FLOPS plots\n",
    ")"
   ]
  },
  {
   "cell_type": "markdown",
   "id": "38243722-bfdc-4e57-8ffa-ee39c33b0fa9",
   "metadata": {},
   "source": [
    "Compare recscoring of 10000 different patterns for increasing numbers of variation"
   ]
  },
  {
   "cell_type": "code",
   "execution_count": 15,
   "id": "9b1c9226-428e-41b2-b141-a2bf024ce968",
   "metadata": {},
   "outputs": [
    {
     "data": {
      "application/vnd.jupyter.widget-view+json": {
       "model_id": "e8bf5827cfda4b4eb835cba39efd7ebd",
       "version_major": 2,
       "version_minor": 0
      },
      "text/plain": [
       "Output()"
      ]
     },
     "metadata": {},
     "output_type": "display_data"
    },
    {
     "data": {
      "text/html": [
       "<pre style=\"white-space:pre;overflow-x:auto;line-height:normal;font-family:Menlo,'DejaVu Sans Mono',consolas,'Courier New',monospace\"></pre>\n"
      ],
      "text/plain": []
     },
     "metadata": {},
     "output_type": "display_data"
    },
    {
     "data": {
      "text/html": [
       "<pre style=\"white-space:pre;overflow-x:auto;line-height:normal;font-family:Menlo,'DejaVu Sans Mono',consolas,'Courier New',monospace\">\n",
       "</pre>\n"
      ],
      "text/plain": [
       "\n"
      ]
     },
     "metadata": {},
     "output_type": "display_data"
    },
    {
     "name": "stdout",
     "output_type": "stream",
     "text": [
      "(2.120000000000001e-05, 142.69301760000008)\n"
     ]
    },
    {
     "data": {
      "image/png": "[encoded data removed]",
      "text/plain": [
       "<Figure size 432x288 with 1 Axes>"
      ]
     },
     "metadata": {
      "needs_background": "dark"
     },
     "output_type": "display_data"
    }
   ],
   "source": [
    "np.random.seed(1)\n",
    "perfplot.show(\n",
    "    setup=lambda n: create_input_10000(n),\n",
    "    kernels=[\n",
    "        lambda a, b, c, d: rescore_original(a, b, c, d),\n",
    "        lambda a, b, c, d: rescore_sparse(a, b, c, d),\n",
    "        lambda a, b, c, d: rescore_nosort(a, b, c, d),\n",
    "        lambda a, b, c, d: rescore_nosort_idx(a, b, c, d),\n",
    "    ],\n",
    "    labels=[\"original\", \"sparse\", \"nosort\", \"nosort_returnidx\"],\n",
    "    n_range=[2**k for k in range(12)],\n",
    "    xlabel=\"Number of varieties\",\n",
    "    # More optional arguments with their default values:\n",
    "    # logx=\"auto\",  # set to True or False to force scaling\n",
    "    # logy=\"auto\",\n",
    "    # equality_check=np.allclose,  # set to None to disable \"correctness\" assertion\n",
    "    # show_progress=True,\n",
    "    # target_time_per_measurement=1.0,\n",
    "    # max_time=None,  # maximum time per measurement\n",
    "    # time_unit=\"s\",  # set to one of (\"auto\", \"s\", \"ms\", \"us\", or \"ns\") to force plot units\n",
    "    # relative_to=1,  # plot the timings relative to one of the measurements\n",
    "    # flops=lambda n: 3*n,  # FLOPS plots\n",
    ")"
   ]
  },
  {
   "cell_type": "markdown",
   "id": "3273863f-ce1b-4aaf-8353-95782d136883",
   "metadata": {},
   "source": [
    "Compare recscoring of 100000 different patterns for increasing numbers of variation"
   ]
  },
  {
   "cell_type": "code",
   "execution_count": 16,
   "id": "cd6507bd-5306-43a6-9b3b-cd6adf390388",
   "metadata": {},
   "outputs": [
    {
     "data": {
      "application/vnd.jupyter.widget-view+json": {
       "model_id": "d0dc841d607c49729b6685c8a35f3617",
       "version_major": 2,
       "version_minor": 0
      },
      "text/plain": [
       "Output()"
      ]
     },
     "metadata": {},
     "output_type": "display_data"
    },
    {
     "data": {
      "text/html": [
       "<pre style=\"white-space:pre;overflow-x:auto;line-height:normal;font-family:Menlo,'DejaVu Sans Mono',consolas,'Courier New',monospace\"></pre>\n"
      ],
      "text/plain": []
     },
     "metadata": {},
     "output_type": "display_data"
    },
    {
     "data": {
      "text/html": [
       "<pre style=\"white-space:pre;overflow-x:auto;line-height:normal;font-family:Menlo,'DejaVu Sans Mono',consolas,'Courier New',monospace\">\n",
       "</pre>\n"
      ],
      "text/plain": [
       "\n"
      ]
     },
     "metadata": {},
     "output_type": "display_data"
    },
    {
     "name": "stdout",
     "output_type": "stream",
     "text": [
      "(2.1300000000000016e-05, 142.15954080000006)\n"
     ]
    },
    {
     "data": {
      "image/png": "[encoded data removed]",
      "text/plain": [
       "<Figure size 432x288 with 1 Axes>"
      ]
     },
     "metadata": {
      "needs_background": "dark"
     },
     "output_type": "display_data"
    }
   ],
   "source": [
    "np.random.seed(1)\n",
    "perfplot.show(\n",
    "    setup=lambda n: create_input_100000(n),\n",
    "    kernels=[\n",
    "        lambda a, b, c, d: rescore_original(a, b, c, d),\n",
    "        lambda a, b, c, d: rescore_sparse(a, b, c, d),\n",
    "        lambda a, b, c, d: rescore_nosort(a, b, c, d),\n",
    "        lambda a, b, c, d: rescore_nosort_idx(a, b, c, d),\n",
    "    ],\n",
    "    labels=[\"original\", \"sparse\", \"nosort\", \"nosort_returnidx\"],\n",
    "    n_range=[2**k for k in range(12)],\n",
    "    xlabel=\"Number of varieties\",\n",
    "    # More optional arguments with their default values:\n",
    "    # logx=\"auto\",  # set to True or False to force scaling\n",
    "    # logy=\"auto\",\n",
    "    # equality_check=np.allclose,  # set to None to disable \"correctness\" assertion\n",
    "    # show_progress=True,\n",
    "    # target_time_per_measurement=1.0,\n",
    "    # max_time=None,  # maximum time per measurement\n",
    "    # time_unit=\"s\",  # set to one of (\"auto\", \"s\", \"ms\", \"us\", or \"ns\") to force plot units\n",
    "    # relative_to=1,  # plot the timings relative to one of the measurements\n",
    "    # flops=lambda n: 3*n,  # FLOPS plots\n",
    ")"
   ]
  }
 ],
 "metadata": {
  "kernelspec": {
   "display_name": "Python 3 (ipykernel)",
   "language": "python",
   "name": "python3"
  },
  "language_info": {
   "codemirror_mode": {
    "name": "ipython",
    "version": 3
   },
   "file_extension": ".py",
   "mimetype": "text/x-python",
   "name": "python",
   "nbconvert_exporter": "python",
   "pygments_lexer": "ipython3",
   "version": "3.10.2"
  }
 },
 "nbformat": 4,
 "nbformat_minor": 5
}
